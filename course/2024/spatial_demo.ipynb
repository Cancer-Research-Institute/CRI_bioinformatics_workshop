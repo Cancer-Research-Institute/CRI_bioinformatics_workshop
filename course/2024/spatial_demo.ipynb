{
 "cells": [
  {
   "cell_type": "markdown",
   "id": "0282e9e0-62ba-4756-8559-fd3a009137cd",
   "metadata": {},
   "source": [
    "# Intro to Spatial Analysis"
   ]
  },
  {
   "cell_type": "markdown",
   "id": "f9c3ccd5",
   "metadata": {},
   "source": [
    "In this notebook, we will be going through some basic spatial analyses. The goal is to provide you with an intuition of the logic behind each of these functions. Try not to get bogged down in understanding every single line of the code, but focus more on the overall reasoning behind what is being done. The code in this notebook is not optimized for large datasets, but simplified versions of more complex functions, to make it more clear what is actually being done.\n",
    "\n",
    "If you would like to run similar analyses on your own multiplexed imaging datasets, please see our lab's poipeline here: https://github.com/angelolab/ark-analysis. There are also other toolkits for spatial analysis, including [Squidpy](https://squidpy.readthedocs.io/) and [MCMICRO](https://mcmicro.org/)."
   ]
  },
  {
   "cell_type": "code",
   "execution_count": null,
   "id": "c3f5b3f7-5fb2-4bd5-9f46-efb105760410",
   "metadata": {
    "tags": []
   },
   "outputs": [],
   "source": [
    "import os\n",
    "import numpy as np\n",
    "import pandas as pd\n",
    "import skimage.io as io\n",
    "from skimage.segmentation import find_boundaries\n",
    "import matplotlib.pyplot as plt\n",
    "import matplotlib.cm as cm\n",
    "from matplotlib import colors\n",
    "from mpl_toolkits.axes_grid1 import make_axes_locatable\n",
    "from scipy.spatial.distance import cdist\n",
    "from scipy import stats\n",
    "import random\n",
    "from sklearn.cluster import KMeans\n",
    "import seaborn as sns"
   ]
  },
  {
   "cell_type": "markdown",
   "id": "093c13e3-03fb-4f46-b6c4-f1f5bd293fd7",
   "metadata": {},
   "source": [
    "## 1. Inspect your data"
   ]
  },
  {
   "cell_type": "markdown",
   "id": "04d4a2e3-ca85-4110-9d7a-fb3883d8ba39",
   "metadata": {},
   "source": [
    "Mantis Viewer or napari can be useful for visualizing your data, but it's always a good idea to be able to open, view, and manipulate your data in Python, as it will give you more flexibility when analyzing your data."
   ]
  },
  {
   "cell_type": "code",
   "execution_count": null,
   "id": "b57a9afa-21ed-4be8-9dd7-067f2b4be305",
   "metadata": {
    "tags": []
   },
   "outputs": [],
   "source": [
    "%matplotlib notebook\n",
    "\n",
    "# Directory where the data lives\n",
    "data_dir = \"example_data\"\n",
    "\n",
    "# Example image\n",
    "ex_fov = \"fov1\"\n",
    "\n",
    "# Look at a few markers\n",
    "markers = [\"CD45\",\"Collagen1\"]\n",
    "\n",
    "# Set-up plots\n",
    "plt.rcParams['figure.figsize'] = [10, 5]\n",
    "fig, ax = plt.subplots(1,len(markers), sharex=True, sharey=True)\n",
    "for i,mark in enumerate(markers):\n",
    "    im_array = np.array(io.imread(os.path.join(data_dir, ex_fov, \"image_data\", mark+\".tiff\")))\n",
    "    ax[i].imshow(im_array, origin=\"lower\", cmap='gray', vmax=np.quantile(im_array,0.99))\n",
    "    ax[i].set_title(mark)\n",
    "    ax[i].axis('off')\n",
    "plt.tight_layout()"
   ]
  },
  {
   "cell_type": "markdown",
   "id": "16d842ea-771f-4584-bcde-bb2d6bfe3f4a",
   "metadata": {},
   "source": [
    "We have already segmented these images to identify the location of single cells in the image using [Mesmer]( https://doi.org/10.1038/s41587-021-01094-0). If you are interested in applying Mesmer to your own data, you can see the notebook [here](https://github.com/angelolab/ark-analysis/blob/main/templates/1_Segment_Image_Data.ipynb).\n",
    "\n",
    "We can inspect the output of Mesmer here. In the segmentation output, each cell has a unique label. For example, all pixels with the value of 1 belong to the same cell, all pixels with the value of 2 belong to another cell, etc."
   ]
  },
  {
   "cell_type": "code",
   "execution_count": null,
   "id": "7c54b465-f052-4e3a-931b-9d7d8e8e57d6",
   "metadata": {
    "tags": []
   },
   "outputs": [],
   "source": [
    "# Read in segmentation mask\n",
    "seg_path = os.path.join(data_dir, ex_fov, \"masks\", \"segmentation_whole_cell.tiff\")\n",
    "seg_array = np.array(io.imread(seg_path)).squeeze() #squeeze changes dimensions from (1,2048,2048) to (2048,2048)\n",
    "\n",
    "# Set up plot\n",
    "fig, ax = plt.subplots(figsize=[5,5])\n",
    "plt.imshow(seg_array)\n",
    "plt.axis('off')\n",
    "plt.tight_layout()"
   ]
  },
  {
   "cell_type": "markdown",
   "id": "98a8fbd1-449d-48f1-bdd8-90244b4b6d60",
   "metadata": {},
   "source": [
    "Once we have segmented our data, we can generate cell tables where each row corresponds to one cell that was identified in the image. We have already identified the phenotype of each cell using [Pixie]( https://doi.org/10.1038/s41467-023-40068-5). If you are interested in running Pixie on your own data, see the notebook [here]( https://github.com/angelolab/ark-analysis/blob/main/templates/2_Pixie_Cluster_Pixels.ipynb).\n",
    "\n",
    "The 'label' column in the table corresponds to the cell IDs (pixel values in the segmentation output), 'centroid-0' and 'centroid-1' correspond to the center point of each cell, and the 'cell_cluster' column is the cell phenotype that we determined using Pixie."
   ]
  },
  {
   "cell_type": "code",
   "execution_count": null,
   "id": "6e26f7e3-b8eb-4a5a-a7ff-b6c6758b98ba",
   "metadata": {
    "tags": []
   },
   "outputs": [],
   "source": [
    "# Read in cell table\n",
    "cell_table_path = os.path.join(data_dir, \"cell_table.csv\")\n",
    "cell_table = pd.read_csv(cell_table_path)\n",
    "\n",
    "# Subset for only the example fov we're looking at here\n",
    "fov_cell_table = cell_table.loc[cell_table['fov'] == ex_fov]\n",
    "fov_cell_table"
   ]
  },
  {
   "cell_type": "markdown",
   "id": "820fe83b-90d5-461a-9b02-cddea51d8703",
   "metadata": {},
   "source": [
    "We can then create a cell phenotype map, where each cell is colored according to its cell phenotype."
   ]
  },
  {
   "cell_type": "code",
   "execution_count": null,
   "id": "74ef7175-ee2e-404f-a849-c141a6cfcd1d",
   "metadata": {},
   "outputs": [],
   "source": [
    "# Define colors we want for each cell type\n",
    "all_colors = {}\n",
    "all_colors['APC'] = '#4E79A7'\n",
    "all_colors['B'] = '#A0CBE8'\n",
    "all_colors['Cancer'] = '#F28E2B'\n",
    "all_colors['Cancer_EMT'] = '#FFBE7D'\n",
    "all_colors['Cancer_Other'] = '#59A14F'\n",
    "all_colors['CD4T'] = '#8CD17D'\n",
    "all_colors['CD8T'] = '#B6992D'\n",
    "all_colors['Endothelium'] = '#F1CE63'\n",
    "all_colors['Fibroblast'] = '#499894'\n",
    "all_colors['Immune_Other'] = '#86BCB6'\n",
    "all_colors['M1_Mac'] = '#E15759'\n",
    "all_colors['M2_Mac'] = '#FF9D9A'\n",
    "all_colors['Mac_Other'] = '#79706E'\n",
    "all_colors['Mast'] = '#D4A6C8'\n",
    "all_colors['Monocyte'] = '#D37295'\n",
    "all_colors['Neutrophil'] = '#FABFD2'\n",
    "all_colors['NK'] = '#B07AA1'\n",
    "all_colors['Other'] = '#BAB0AC'\n",
    "all_colors['Stroma'] = '#9D7660'\n",
    "all_colors['T_Other'] = '#D7B5A6'\n",
    "all_colors['Treg'] = '#FFFF99'\n",
    "\n",
    "# Create table matching each color to a unique ID\n",
    "colors_list = [(key,value) for key,value in all_colors.items()]\n",
    "all_colors_df = pd.DataFrame(colors_list, columns=['cell_cluster','color'])\n",
    "all_colors_df['pheno_id'] = all_colors_df.index + 1\n",
    "\n",
    "# Make color map for plotting\n",
    "mycols = all_colors_df['color'].tolist()\n",
    "mycols.insert(0,'#000000') # add black for empty slide, will have id 0\n",
    "mycols.append('#FFFFFF') # add white for cell borders, will have id max_n+1\n",
    "colmap = colors.ListedColormap(mycols)\n",
    "max_n = np.max(all_colors_df['pheno_id'])\n",
    "bounds = [i-0.5 for i in np.linspace(0,max_n+2, max_n+3)]\n",
    "norm = colors.BoundaryNorm(bounds, colmap.N)\n",
    "\n",
    "# Define function for making cell phenotype map (CPM)\n",
    "def create_cpm(fov_name, cell_table, all_colors_df, seg_array, fig, ax):\n",
    "    # Subset cell table for this FOV\n",
    "    one_fov_cell_table = cell_table.loc[cell_table['fov'] == fov_name]\n",
    "    # Combine with cell table\n",
    "    one_fov_cell_table = one_fov_cell_table.merge(all_colors_df, how='left')\n",
    "    # Make dictionary mapping each cell to its phenotype id\n",
    "    fov_cell_dict = dict(zip(one_fov_cell_table['label'], one_fov_cell_table['pheno_id']))\n",
    "    # Add 0 for empty slide\n",
    "    fov_cell_dict[0] = 0\n",
    "    \n",
    "    # Make new image where each pxiel corresponds to its phenotype id\n",
    "    # Use 'vectorize' in numpy package to speed up this operation\n",
    "    cpm_array = np.vectorize(fov_cell_dict.get)(seg_array)\n",
    "\n",
    "    # Find the borders of cells\n",
    "    predicted_contour_mask = find_boundaries(seg_array, connectivity=1, mode='inner').astype(np.uint8)\n",
    "    # Color this  border white\n",
    "    cpm_array[predicted_contour_mask > 0] = max_n+1\n",
    "\n",
    "    # Plot\n",
    "    cpm_image = colmap(norm(cpm_array))\n",
    "    ax.imshow(cpm_image)\n",
    "    \n",
    "    return"
   ]
  },
  {
   "cell_type": "code",
   "execution_count": null,
   "id": "18347800-3688-40ba-84b0-64b8cf704c21",
   "metadata": {
    "tags": []
   },
   "outputs": [],
   "source": [
    "# Create CPM for example FOV\n",
    "fig, ax = plt.subplots(figsize=[8,8])\n",
    "cpm = create_cpm(ex_fov, cell_table, all_colors_df, seg_array, fig, ax)\n",
    "plt.axis('off')\n",
    "\n",
    "# Add colorbar to image\n",
    "divider = make_axes_locatable(fig.gca())\n",
    "cax = divider.append_axes(position=\"right\", size=\"5%\", pad=\"3%\")\n",
    "cbar = fig.colorbar(cm.ScalarMappable(norm=norm, cmap=colmap),\n",
    "                    cax=cax, orientation=\"vertical\", use_gridspec=True, pad=0.1,\n",
    "                    shrink=0.9, drawedges=True)\n",
    "cbar_labels = all_colors_df['cell_cluster'].to_list()\n",
    "cbar_labels.insert(0,'Empty') # add black for empty slide, will have id 0\n",
    "cbar_labels.append('Cell border') # add white for cell borders, will have id max_n+1\n",
    "\n",
    "cbar.ax.set_yticks(\n",
    "    ticks=np.arange(len(cbar_labels)),\n",
    "    labels=cbar_labels\n",
    ")\n",
    "cbar.minorticks_off()\n",
    "\n",
    "plt.tight_layout()"
   ]
  },
  {
   "cell_type": "markdown",
   "id": "b9a1f3f3-0d5b-49eb-8a33-a74f11d31485",
   "metadata": {},
   "source": [
    "## 2. Quanitfying cell populations"
   ]
  },
  {
   "cell_type": "markdown",
   "id": "ba8c51b8-693a-4e18-91b9-dea738418d2a",
   "metadata": {},
   "source": [
    "There are many methods for cell enumeration, including counting the number of cells of each cell type, calculating cell frequency by dividing by the total number of cells, and calculating cell density by dividing by the total tissue area. While the first approach is the most straightforward, simply counting the number of cells depends on the amount of tissue present in the image. Cell frequencies normalize the number of each cell type to the total number of cells in the image such that all cell types sum to 1. As a result, cell frequencies are not confounded by differences in the size of the section. However, one drawback of cell frequencies is that they can obscure the reason that the amount of one cell type differs between samples. For example, consider a simple example of comparing the number of tissue resident macrophages in healthy and inflamed tissue. Even if the number of macrophages is the same in both images, it may seem like tissue resident macrophages are decreasing in the latter relative to the former. In reality, however, the absolute count of tissue resident macrophages is not changing; they are just outnumbered by infiltrating immune cells. Only considering cell frequencies in such a scenario would lead to the incorrect conclusion that macrophages are decreasing in the inflamed state. One solution is to also examine the density of each cell population by dividing by the total tissue area.\n",
    "\n",
    "Here, we are showing an example of two FOVs that have different amounts of immune infiltrate, ECM content, and total area (as determined using the slide background mask). We have generated masks of the ECM (using the composite signal of ECM markers) and empty sllide (for MIBI, we can determine empty slide by measuring gold signal, since we use gold sputtered slides). Using the empty slide mask, we can estimate tissue area (by taking the inverse). In the ECM and empty slide masks shown here, white indicates ECM or empty slide, respectively."
   ]
  },
  {
   "cell_type": "code",
   "execution_count": null,
   "id": "cb340128-97a9-4430-8a6d-4787234e48b8",
   "metadata": {},
   "outputs": [],
   "source": [
    "# Example images\n",
    "fov1 = \"fov1\"\n",
    "fov2 = \"fov2\"\n",
    "\n",
    "# Set-up plots\n",
    "plt.rcParams['figure.figsize'] = [10,6]\n",
    "fig, ax = plt.subplots(2,3)\n",
    "\n",
    "# Look at cell phenotype maps, ECM mask, and gold mask\n",
    "for i,fov in enumerate([fov1,fov2]):\n",
    "    # CPMs\n",
    "    seg_path = os.path.join(data_dir,fov,\"masks\",\"segmentation_whole_cell.tiff\")\n",
    "    seg_array = np.array(io.imread(seg_path)).squeeze()\n",
    "    create_cpm(fov, cell_table, all_colors_df, seg_array, fig, ax[i,0])\n",
    "    ax[i,0].set_title(\"Cell phenotype map\")\n",
    "    ax[i,0].set_ylabel(fov)\n",
    "    ax[i,0].set_yticklabels([])\n",
    "    ax[i,0].set_xticklabels([])\n",
    "    ax[i,0].set_yticklabels([])\n",
    "    ax[i,0].set_xticks([])\n",
    "    ax[i,0].set_yticks([])\n",
    "    \n",
    "    # ECM\n",
    "    ecm_path = os.path.join(data_dir,fov,\"masks\",\"total_ecm.tiff\")\n",
    "    ecm_array = np.array(io.imread(ecm_path))\n",
    "    ax[i,1].imshow(ecm_array, cmap='gray')\n",
    "    ax[i,1].axis('off')\n",
    "    ax[i,1].set_title(\"ECM\")\n",
    "    \n",
    "    # Empty slide\n",
    "    empty_slide_path = os.path.join(data_dir,fov,\"masks\",\"empty_slide.tiff\")\n",
    "    empty_slide_array = np.array(io.imread(empty_slide_path))\n",
    "    ax[i,2].imshow(empty_slide_array, cmap='gray')\n",
    "    ax[i,2].axis('off')\n",
    "    ax[i,2].set_title(\"Empty slide\")\n",
    "\n",
    "plt.tight_layout()"
   ]
  },
  {
   "cell_type": "markdown",
   "id": "c720d070-7832-466d-b416-544c7093fd7b",
   "metadata": {
    "tags": []
   },
   "source": [
    "#### Simply count the number of each cell type"
   ]
  },
  {
   "cell_type": "code",
   "execution_count": null,
   "id": "4fdd619f-672b-4464-a782-db496066fb8d",
   "metadata": {
    "tags": []
   },
   "outputs": [],
   "source": [
    "cell_table_keep = cell_table.loc[cell_table['fov'].isin([fov1,fov2])]\n",
    "count_cells = cell_table_keep.groupby('fov')['cell_cluster'].value_counts().reset_index(name='count')\n",
    "count_cells"
   ]
  },
  {
   "cell_type": "markdown",
   "id": "c6f8153e-3171-4e19-806f-1fbf00c6d49c",
   "metadata": {
    "tags": []
   },
   "source": [
    "#### Calculate frequency (divided by total number of cells)"
   ]
  },
  {
   "cell_type": "code",
   "execution_count": null,
   "id": "98ccc734-4e13-45f8-af01-1d37ed5ab336",
   "metadata": {
    "tags": []
   },
   "outputs": [],
   "source": [
    "# Get total number of cells per FOV\n",
    "total_counts = cell_table_keep.groupby('fov').size().to_frame('total_cells')\n",
    "total_counts = total_counts.reset_index()\n",
    "\n",
    "# Calculate frequency\n",
    "count_cells = count_cells.merge(total_counts, on='fov')\n",
    "count_cells['frequency'] = count_cells['count'] / count_cells['total_cells']\n",
    "count_cells"
   ]
  },
  {
   "cell_type": "markdown",
   "id": "ac21d8c5-0b0e-45f6-b19b-6bb0a594400f",
   "metadata": {},
   "source": [
    "#### Calculate density (divided by tissue area)"
   ]
  },
  {
   "cell_type": "code",
   "execution_count": null,
   "id": "be08995c-4529-47bb-ab07-e92347be27bf",
   "metadata": {
    "tags": []
   },
   "outputs": [],
   "source": [
    "# Calculate tissue area (inverse of empty slide)\n",
    "def get_tissue_area(fov_name):\n",
    "    empty_slide_path = os.path.join(data_dir,fov_name,\"masks\",\"empty_slide.tiff\")\n",
    "    empty_slide_array = np.array(io.imread(empty_slide_path))\n",
    "    # Get total pixels that belong to empty slide\n",
    "    empty_slide_px = np.sum(empty_slide_array) #pixel value is 1 if it is empty slide\n",
    "    # Get number of pixels that belong to tissue (total image - empty slide)\n",
    "    total_size = empty_slide_array.shape\n",
    "    tissue_area_px = (total_size[0]*total_size[1]) - empty_slide_px\n",
    "    # These images are 2048px x 2048px, imaged at 800um x 800um\n",
    "    # Therefore, the size of 1 pixel is 800um/2048px = 0.39 um/px, area is 0.15 um^2\n",
    "    return (fov_name, tissue_area_px*0.15)\n",
    "\n",
    "# Calculate for all FOVs\n",
    "all_tissue_px = [get_tissue_area(fov) for fov in [fov1,fov2]]\n",
    "all_tissue_df = pd.DataFrame(all_tissue_px, columns=['fov','area'])\n",
    "\n",
    "# Calculate density\n",
    "count_cells = count_cells.merge(all_tissue_df, on='fov')\n",
    "count_cells['density'] = count_cells['count'] / count_cells['area']\n",
    "count_cells"
   ]
  },
  {
   "cell_type": "markdown",
   "id": "9ad11250-0aab-42f0-9f94-f3679f0236ac",
   "metadata": {},
   "source": [
    "#### Compare"
   ]
  },
  {
   "cell_type": "code",
   "execution_count": null,
   "id": "c308f26c-3e68-4df2-b851-b62b237a6893",
   "metadata": {
    "tags": []
   },
   "outputs": [],
   "source": [
    "cell_type = 'CD4T'\n",
    "print(cell_type)\n",
    "print('FOV:', fov1,\n",
    "      ', total_counts:', count_cells.loc[(count_cells['fov']==fov1) & (count_cells['cell_cluster']==cell_type)]['count'].values[0],\n",
    "      ', frequency:', count_cells.loc[(count_cells['fov']==fov1) & (count_cells['cell_cluster']==cell_type)]['frequency'].values[0],\n",
    "      ', density:', count_cells.loc[(count_cells['fov']==fov1) & (count_cells['cell_cluster']==cell_type)]['density'].values[0])\n",
    "print('FOV:', fov2,\n",
    "      ', total_counts:', count_cells.loc[(count_cells['fov']==fov2) & (count_cells['cell_cluster']==cell_type)]['count'].values[0],\n",
    "      ', frequency:', count_cells.loc[(count_cells['fov']==fov2) & (count_cells['cell_cluster']==cell_type)]['frequency'].values[0],\n",
    "      ', density:', count_cells.loc[(count_cells['fov']==fov2) & (count_cells['cell_cluster']==cell_type)]['density'].values[0])"
   ]
  },
  {
   "cell_type": "markdown",
   "id": "8b027477",
   "metadata": {},
   "source": [
    "#### Additional exercises"
   ]
  },
  {
   "cell_type": "markdown",
   "id": "83caf3c1",
   "metadata": {},
   "source": [
    "1. Change the \"cell_type\" in the code block above and evaluate how the quantification method is different for different cell types.\n",
    "2. Create a stacked bar plot showing the cell type composition of each fov (x axis should be fov1 and fov2, y axis is cell type composition). Try making this plot with counts, frequency, and density."
   ]
  },
  {
   "cell_type": "markdown",
   "id": "0eb0039a-d407-4c01-853d-107e405f33ea",
   "metadata": {},
   "source": [
    "## 3. Cell-cell enrichment (global)"
   ]
  },
  {
   "cell_type": "markdown",
   "id": "8165fa74-7f72-46d8-9011-c860617380c9",
   "metadata": {},
   "source": [
    "The goal of pairwise enrichment analysis is to assess whether any two given cell populations colocalize with each other. For example, this approach could be used to determine if T cells preferentially colocalize with tumor cells. In asking such questions, we recommend taking this one step further: Do two cell populations colocalize with each other more often than would be expected by chance? Depending on the frequency of the cell populations and native tissue structure, it may not be possible to determine whether some pairwise relationships are truly preferential or random. The goal of this approach is to minimize potential confounding effects specific to each image that might not be related to the biological question of interest. For example, in a tissue section equally composed of only two cell populations, pairwise enrichment is likely to occur simply by random chance.\n",
    "\n",
    "With this in mind, we can assess the statistical significance of pairwise enrichment by comparing how often two cell populations are found in close proximity to each other compared with a null distribution. To construct a null distribution, we use a bootstrapping approach by selectively randomizing the location of the cell populations of interest, calculating pairwise enrichment, and repeating this process a large number of times (>100 times is typical). In the assessment of preferential enrichment for two cell populations defined by their expression of marker A or B, the simplest way to generate a null distribution is to randomize the location of one cell population across all cells in the image while keeping the location of the other cell population fixed. For both the original and randomized images, cells positive for A or B are colocalized if the distance between them is less than or equal to a user-defined value. The number of A–B interactions in the original image is then compared with the null distribution to determine statistical significance."
   ]
  },
  {
   "cell_type": "code",
   "execution_count": null,
   "id": "776d8477-d4c3-4909-b444-81ec5c7076e3",
   "metadata": {},
   "outputs": [],
   "source": [
    "# Example image\n",
    "ex_fov = \"fov2\"\n",
    "\n",
    "# Determine cell types to look at\n",
    "pheno1 = \"Cancer\"\n",
    "pheno2 = \"CD8T\"\n",
    "\n",
    "# Threshold to determine if two cells are \"close\"\n",
    "dist_thresh = 50\n",
    "\n",
    "# Number of bootstraps for generating null distribution\n",
    "bootstrap_n = 100"
   ]
  },
  {
   "cell_type": "markdown",
   "id": "42a865c0-2bd6-48b6-9615-9a73c11ca85f",
   "metadata": {},
   "source": [
    "#### Calculate the distance between all cells in the FOV"
   ]
  },
  {
   "cell_type": "code",
   "execution_count": null,
   "id": "efa8f7d0-2e6b-4974-a1f3-de4b4e0ed826",
   "metadata": {},
   "outputs": [],
   "source": [
    "# Subset cell table for only cells in this FOV\n",
    "fov_cell_table = cell_table.loc[cell_table['fov'] == ex_fov].reset_index(drop=True)\n",
    "# Make list of all cell centroids\n",
    "all_centroids = list(zip(fov_cell_table['centroid-0'],fov_cell_table['centroid-1']))\n",
    "# Get distance between all cells\n",
    "dist_mat = cdist(all_centroids, all_centroids, 'euclidean')\n",
    "# Print dimensions of distance matrix\n",
    "print(\"Dimensions of dist_mat: \", dist_mat.shape)\n",
    "\n",
    "dist_mat"
   ]
  },
  {
   "cell_type": "markdown",
   "id": "9024ce55-fec7-4d65-9269-d359ce128650",
   "metadata": {},
   "source": [
    "This distance matrix has dimensions of total number of cells x total number of cells. The values in the matrix indicate the distance between any 2 cells. The indices of the distance matrix correspond to the indices of the cell table. So the first row in the distance matrix corresponds to the distance between cell label 1 and all other cells in the image. After calculating the distance between all cells, we can subset it for our cell type of choice. We can then count the number of close contacts between two cell types."
   ]
  },
  {
   "cell_type": "markdown",
   "id": "ef2e25ce-37dc-4b3c-827a-1e76fe800e82",
   "metadata": {
    "tags": []
   },
   "source": [
    "#### Count number of close contacts between pheno1 and pheno2"
   ]
  },
  {
   "cell_type": "code",
   "execution_count": null,
   "id": "c0d30e47-86bf-4070-979f-2b707a120c1f",
   "metadata": {},
   "outputs": [],
   "source": [
    "# Get index of cells belonging to pheno1 and pheno2\n",
    "pheno1_idx = fov_cell_table[fov_cell_table['cell_cluster'] == pheno1].index.to_list()\n",
    "pheno2_idx = fov_cell_table[fov_cell_table['cell_cluster'] == pheno2].index.to_list()\n",
    "\n",
    "# Only keep pheno1 cells in x-axis of distance matrix\n",
    "pheno1_dist_mat = dist_mat[pheno1_idx,:]\n",
    "# Binarize the distance matrix for distances that are within the defined threshold\n",
    "bin_mask = (pheno1_dist_mat < dist_thresh) & (pheno1_dist_mat > 0)\n",
    "# Change true/false to 1/0\n",
    "pheno1_dist_mat_bin = bin_mask*1\n",
    "\n",
    "# Subset this distance matrix for pheno2 cells in y-axis of distance matrix\n",
    "true_dist_mat_bin = pheno1_dist_mat_bin[:,pheno2_idx]\n",
    "# Inspect the shape of this matrix, should be number of cells of pheno1 x number of cells of pheno2\n",
    "# Each element in the matrix is the distance between a pheno1 cell and a pheno2 cell\n",
    "print(\"Shape of subsetted distance matrix: \", true_dist_mat_bin.shape)\n",
    "\n",
    "# For each pheno1 cell, count number of \"close\" contacts with pheno2 cells\n",
    "true_close_contacts = np.sum(true_dist_mat_bin, axis=1)\n",
    "# Take the average across all pheno1 cells\n",
    "true_close_contacts_mean = np.mean(true_close_contacts)\n",
    "print(\"Average number of close contacts between pheno1 and pheno2 cells: \", true_close_contacts_mean)"
   ]
  },
  {
   "cell_type": "markdown",
   "id": "733205b4-e442-49fd-b31b-9bba667f145f",
   "metadata": {
    "tags": []
   },
   "source": [
    "Above, we have determined the average number of close contacts between pheno1 and pheno2 cells in this image. To determine whether this is a significant number, we can compare it against a null distribution, generated by randomly permuting cell labels. We keep the pheno1 cells constant, then randomize the location of pheno2 cells in the image. For each randomization, we calculate the number of close contacts. We repeat this many times to generate the null distribution."
   ]
  },
  {
   "cell_type": "markdown",
   "id": "d1a0e3e4-03b5-4328-96ea-c5b3735be65c",
   "metadata": {},
   "source": [
    "#### Generate null distribution by bootstrapping"
   ]
  },
  {
   "cell_type": "code",
   "execution_count": null,
   "id": "26d38bd4-cb4c-45b4-960b-d4eef39d32c2",
   "metadata": {},
   "outputs": [],
   "source": [
    "# Get all possible cell indices (total pool of available cells to randomize)\n",
    "all_idx = fov_cell_table.index.to_list()\n",
    "# Remove cells that are of pheno1 from this pool (since they are held constant in this randomization)\n",
    "all_idx = [x for x in all_idx if x not in pheno1_idx]\n",
    "# Get total number of cells that are pheno2\n",
    "num_pheno2 = len(pheno2_idx)\n",
    "\n",
    "# Randomly sample all cells to be labeled as pheno2 (bootstrapping)\n",
    "all_bootstrap = []\n",
    "for _ in range(bootstrap_n):\n",
    "    # Select num_pheno2 random numbers, represents the indices of the randomly selected cells\n",
    "    random_pheno2_idx = random.sample(all_idx, num_pheno2)\n",
    "    # Subset the distance matrix to only keep these randomly selected cells\n",
    "    keep_dist_mat_bin = pheno1_dist_mat_bin[:,random_pheno2_idx]\n",
    "    # Find the total number of close contacts between pheno1 cells and randomly selected cells\n",
    "    close_contacts = np.sum(keep_dist_mat_bin, axis=1)\n",
    "    # Take the mean across all cells of pheno1\n",
    "    close_contacts_mean = np.mean(close_contacts)\n",
    "    # Add this value to the list of all bootstraps\n",
    "    all_bootstrap.append(close_contacts_mean)"
   ]
  },
  {
   "cell_type": "markdown",
   "id": "46e718de-6821-4780-ba90-da5f9ab82ef5",
   "metadata": {},
   "source": [
    "#### Compare null distrbution to actual number of close contacts"
   ]
  },
  {
   "cell_type": "code",
   "execution_count": null,
   "id": "e3ae783d-2dc6-4a67-a948-c5cbe506b1e5",
   "metadata": {
    "tags": []
   },
   "outputs": [],
   "source": [
    "fig, ax = plt.subplots(figsize=(5,3))\n",
    "# Blue histogram is null distribution\n",
    "ax.hist(all_bootstrap, density=True,  bins=10, alpha=0.5)\n",
    "# Red line is actual number of close contacts\n",
    "plt.axvline(x=true_close_contacts_mean, color='red', linestyle='--', linewidth=2)\n",
    "plt.show()"
   ]
  },
  {
   "cell_type": "code",
   "execution_count": null,
   "id": "eb8b418e-fe2f-4c34-9f65-dadf3ef168d2",
   "metadata": {
    "tags": []
   },
   "outputs": [],
   "source": [
    "# Calculate statistics of null distribution\n",
    "muhat, sigmahat = stats.norm.fit(all_bootstrap)\n",
    "# Calculate z score based on distribution\n",
    "z = (true_close_contacts_mean - muhat) / sigmahat\n",
    "print(\"z-score: \", z)"
   ]
  },
  {
   "cell_type": "markdown",
   "id": "3e6512fc",
   "metadata": {},
   "source": [
    "#### Additional exercises"
   ]
  },
  {
   "cell_type": "markdown",
   "id": "469984e7",
   "metadata": {},
   "source": [
    "1. Flip \"pheno1\" and \"pheno2\" - is this calculation symmetric? Conceptually, should it be symmetric?\n",
    "2. Play around with the distance threshold for determing \"close\" cells.\n",
    "3. Play around with \"pheno1\" and \"pheno2\" and evaluate these metrics for various pairs of cells.\n",
    "4. Pick a few different pheno1-pheno2 pairs. For one FOV, loop through this pairwise enrichment function for these pairs of cells. Store this output in a table (hint: column names could be \"pheno1\", \"pheno2\", \"z-score\").\n",
    "5. Repeat this calculation for the second FOV.\n",
    "6. Compare z-scores between fov1 and fov2."
   ]
  },
  {
   "cell_type": "markdown",
   "id": "6f40b5d1-38ee-47cb-a560-cb0df2684f49",
   "metadata": {},
   "source": [
    "## 4. Cell-cell enrichment (context dependent)"
   ]
  },
  {
   "cell_type": "markdown",
   "id": "7016d552-498b-4489-8d9f-863d6e69040b",
   "metadata": {},
   "source": [
    "This randomization strategy is robust for mitigating confounding effects attributable to the frequency of each cell population. However, this approach does not control for biases inherent to tissue structure. Consequently, interactions between two proteins may appear to be spatially enriched as a result of tissue structure or cell-specific expression, as markers expressed exclusively by certain cells will be heavily influenced by the location of those cells. For example, two immune cell populations that are known to preferentially localize in germinal centers are biased to be enriched with each other. While one possibility is that this relationship is indeed preferential, another possibility is that spatial enrichment is merely a result of both cell types being restricted to a smaller histological compartment.\n",
    "\n",
    "To address this possibility, null distributions can also be generated in a context-dependent manner. In context-dependent spatial enrichment analysis, randomizations are restricted to occur only within a given cellular compartment or cell subset. In the germinal center example, randomizations can be restricted to occur only within the germinal center. As a result, spurious enrichments that might occur between noninteracting cell populations that happen to colocalize to germinal centers are accounted for in the null distribution.\n",
    "\n",
    "For this dataset, we have generated masks for the cancer and stroma, core and border regions (using composite channels representative for each region)."
   ]
  },
  {
   "cell_type": "markdown",
   "id": "632be4e6-29bd-41cf-a56e-a93837d0317e",
   "metadata": {},
   "source": [
    "#### Look at cancer and stroma masks"
   ]
  },
  {
   "cell_type": "code",
   "execution_count": null,
   "id": "5766fdde-d37e-482c-8093-8c8b14c0727b",
   "metadata": {},
   "outputs": [],
   "source": [
    "cancer_core = io.imread(os.path.join(data_dir, ex_fov, \"masks\", \"cancer_core.tiff\"))\n",
    "cancer_border = io.imread(os.path.join(data_dir, ex_fov, \"masks\", \"cancer_border.tiff\"))\n",
    "stroma_core = io.imread(os.path.join(data_dir, ex_fov, \"masks\", \"stroma_core.tiff\"))\n",
    "stroma_border = io.imread(os.path.join(data_dir, ex_fov, \"masks\", \"stroma_border.tiff\"))\n",
    "\n",
    "fig, ax = plt.subplots(1,4,figsize=[12,4])\n",
    "ax[0].imshow(cancer_core, cmap='gray')\n",
    "ax[0].axis('off')\n",
    "ax[0].set_title(\"Cancer core\")\n",
    "ax[1].imshow(cancer_border, cmap='gray')\n",
    "ax[1].axis('off')\n",
    "ax[1].set_title(\"Cancer border\")\n",
    "ax[2].imshow(stroma_core, cmap='gray')\n",
    "ax[2].axis('off')\n",
    "ax[2].set_title(\"Stroma core\")\n",
    "ax[3].imshow(stroma_border, cmap='gray')\n",
    "ax[3].axis('off')\n",
    "ax[3].set_title(\"Stroma border\")\n",
    "plt.tight_layout()\n",
    "plt.show()"
   ]
  },
  {
   "cell_type": "markdown",
   "id": "004762d3-429a-429c-aa66-f3894be74493",
   "metadata": {},
   "source": [
    "#### Repeat calculation for number of close contacts but subset for cells within the cancer core only"
   ]
  },
  {
   "cell_type": "code",
   "execution_count": null,
   "id": "46e73428-9423-433f-8c56-6a400f5fe1d9",
   "metadata": {},
   "outputs": [],
   "source": [
    "# Get segmentation mask\n",
    "seg_path = os.path.join(data_dir, ex_fov, \"masks\", \"segmentation_whole_cell.tiff\")\n",
    "seg_array = np.array(io.imread(seg_path)).squeeze()\n",
    "\n",
    "# Make new segmentation mask where everything outside of the cancer core is 0\n",
    "masked_seg_array = np.copy(seg_array)\n",
    "masked_seg_array[cancer_core == 0] = 0\n",
    "# Only keep cell labels that are within the cancer core\n",
    "masked_cell_labels = np.unique(masked_seg_array)\n",
    "masked_cell_labels = [x for x in masked_cell_labels if x != 0] #remove 0 (which is empty slide)\n",
    "# Subset cell table for only the cells within the cancer core\n",
    "fov_cell_table_masked = fov_cell_table[fov_cell_table['label'].isin(masked_cell_labels)]"
   ]
  },
  {
   "cell_type": "code",
   "execution_count": null,
   "id": "a669f00f-843e-4803-8ac6-9ec9b5db15c1",
   "metadata": {},
   "outputs": [],
   "source": [
    "# Get index of cells belonging to pheno1 and pheno2, but this time, only keep labels that are in the cancer core mask\n",
    "pheno1_idx = fov_cell_table_masked[fov_cell_table_masked['cell_cluster'] == pheno1].index.to_list()\n",
    "pheno2_idx = fov_cell_table_masked[fov_cell_table_masked['cell_cluster'] == pheno2].index.to_list()\n",
    "\n",
    "# Only keep pheno1 cells in x-axis of distance matrix\n",
    "pheno1_dist_mat = dist_mat[pheno1_idx,:]\n",
    "# Binarize the distance matrix for distances that are within the defined threshold\n",
    "bin_mask = (pheno1_dist_mat < dist_thresh) & (pheno1_dist_mat > 0)\n",
    "# Change true/false to 1/0\n",
    "pheno1_dist_mat_bin = bin_mask*1\n",
    "\n",
    "# Subset this distance matrix for pheno2 cells in y-axis of distance matrix\n",
    "true_dist_mat_bin = pheno1_dist_mat_bin[:,pheno2_idx]\n",
    "\n",
    "# For each pheno1 cell, count number of \"close\" contacts with pheno2 cells\n",
    "true_close_contacts = np.sum(true_dist_mat_bin, axis=1)\n",
    "true_close_contacts_mean = np.mean(true_close_contacts)\n",
    "print(\"Average number of close contacts between pheno1 and pheno2 cells: \", true_close_contacts_mean)"
   ]
  },
  {
   "cell_type": "markdown",
   "id": "f3386f95-21c7-4935-b4db-92a1a4116e33",
   "metadata": {
    "tags": []
   },
   "source": [
    "#### Generate null distribution, only randomizing within cancer core"
   ]
  },
  {
   "cell_type": "code",
   "execution_count": null,
   "id": "2e71ab54-e5b9-4286-9fa0-63e373b5ae10",
   "metadata": {},
   "outputs": [],
   "source": [
    "# Get all possible cell indices (total pool of available cells to randomize)\n",
    "all_idx = fov_cell_table_masked.index.to_list()\n",
    "# Remove cells that are of pheno1 from this pool (since they are held constant in this randomization)\n",
    "all_idx = [x for x in all_idx if x not in pheno1_idx]\n",
    "# Get total number of cells that are pheno2\n",
    "num_pheno2 = len(pheno2_idx)\n",
    "\n",
    "# Randomly sample all cells to be labeled as pheno2 (bootstrapping)\n",
    "all_bootstrap = []\n",
    "for _ in range(bootstrap_n):\n",
    "    # Select num_pheno2 random numbers, represents the indices of the randomly selected cells\n",
    "    random_pheno2_idx = random.sample(all_idx, num_pheno2)\n",
    "    # Subset the distance matrix to only keep these randomly selected cells\n",
    "    keep_dist_mat_bin = pheno1_dist_mat_bin[:,random_pheno2_idx]\n",
    "    # Find the total number of close contacts between pheno1 cells and randomly selected cells\n",
    "    close_contacts = np.sum(keep_dist_mat_bin, axis=1)\n",
    "    # Take the mean across all cells of pheno1\n",
    "    close_contacts_mean = np.mean(close_contacts)\n",
    "    # Add this value to the list of all bootstraps\n",
    "    all_bootstrap.append(close_contacts_mean)"
   ]
  },
  {
   "cell_type": "markdown",
   "id": "72426860-b5d9-4bca-a41f-6e1f9910300e",
   "metadata": {},
   "source": [
    "#### Compare null distrbution to actual number of close contacts"
   ]
  },
  {
   "cell_type": "code",
   "execution_count": null,
   "id": "ff9526ca-f9e5-485c-b46b-4a5a58e8058c",
   "metadata": {
    "tags": []
   },
   "outputs": [],
   "source": [
    "fig, ax = plt.subplots(figsize=(5,3))\n",
    "# Blue histogram is null distribution\n",
    "ax.hist(all_bootstrap, density=True,  bins=10, alpha=0.5)\n",
    "# Red line is actual number of close contacts\n",
    "plt.axvline(x=true_close_contacts_mean, color='red', linestyle='--', linewidth=2)\n",
    "plt.show()"
   ]
  },
  {
   "cell_type": "code",
   "execution_count": null,
   "id": "5b07af5d-384d-47ef-9edc-9e3d1d276c06",
   "metadata": {
    "tags": []
   },
   "outputs": [],
   "source": [
    "# Calculate statistics of null distribution\n",
    "muhat, sigmahat = stats.norm.fit(all_bootstrap)\n",
    "# Calculate z score based on distribution\n",
    "z = (true_close_contacts_mean - muhat) / sigmahat\n",
    "print(\"z-score: \", z)"
   ]
  },
  {
   "cell_type": "markdown",
   "id": "a34aaea9",
   "metadata": {},
   "source": [
    "#### Additional exercises"
   ]
  },
  {
   "cell_type": "markdown",
   "id": "94bace47",
   "metadata": {},
   "source": [
    "1. Play with different regions and phenotype pairs."
   ]
  },
  {
   "cell_type": "markdown",
   "id": "b88fbe66-b09e-4d9a-b29b-3a75cf9e64b9",
   "metadata": {},
   "source": [
    "## 5. Cellular microenvironments"
   ]
  },
  {
   "cell_type": "markdown",
   "id": "62c12ae0-14b0-496b-999c-c7109715d2e5",
   "metadata": {},
   "source": [
    "Cell phenotypes are regulated in part by their local cellular niche, or microenvironment, which is defined as a collection of cell lineages found to be spatially colocalized and conserved across the data set. We can employ several methods to identify these microenvironments. The first step in this process is to quantify the local distribution of cell lineages around each cell in the data set. Here, we are enumerating the number of cells in each lineage within a set pixel radius from the index cell. Various machine learning methods can then be used to identify distinct cellular microenvironments that occur repeatedly across the data set. Here, we are using k-means clustering."
   ]
  },
  {
   "cell_type": "code",
   "execution_count": null,
   "id": "9d7c396a-a494-4299-830f-30d530f3bc3a",
   "metadata": {},
   "outputs": [],
   "source": [
    "# FOVs to include in this analysis\n",
    "all_fovs = [\"fov1\", \"fov2\"]\n",
    "\n",
    "# Set distance for the neighborhood around the cell\n",
    "nh_dist = 50\n",
    "\n",
    "# Set the number of \"expected\" microenvironments\n",
    "k = 3\n",
    "\n",
    "# Set a seed for reproducibility\n",
    "seed = 2024\n",
    "\n",
    "# Get list of all cell types in our data\n",
    "all_cell_types = cell_table['cell_cluster'].unique()"
   ]
  },
  {
   "cell_type": "markdown",
   "id": "71a07520-7460-4cdb-83b8-c2cd9fb254fd",
   "metadata": {},
   "source": [
    "#### Find neighbors for each cell"
   ]
  },
  {
   "cell_type": "code",
   "execution_count": null,
   "id": "f2bc3334-d161-4557-ad26-151de3d2d2f7",
   "metadata": {
    "tags": []
   },
   "outputs": [],
   "source": [
    "# Define function to count the neighbors of each cell (where each cell is one row in the distance matrix)\n",
    "def one_cell_nh(row):\n",
    "    # Get index of neighbors (defined as \"close\" in the distance matrix)\n",
    "    # In the distance matrix ('row' is just one row in the distance matrix), 1 indicates that the two cells were \"close\"\n",
    "    neighbor_idx = np.where(row == 1)[0]\n",
    "    # Initialize output as a dictionary, start with count of 0 for every cell type\n",
    "    nh = {key:0 for key in all_cell_types}\n",
    "    # Convert these indices to cell types\n",
    "    if len(neighbor_idx) > 0:\n",
    "        nh_cells = fov_cell_table.loc[neighbor_idx]['cell_cluster'].values\n",
    "        # Count the number of each cell type\n",
    "        unique_cell_type, counts = np.unique(nh_cells, return_counts=True)\n",
    "        # Store the data in the dictionary\n",
    "        for i,one_cell_type in enumerate(unique_cell_type):\n",
    "            nh[one_cell_type] = counts[i]\n",
    "    return nh\n",
    "\n",
    "# Iterate through all fovs to get neighbors of all cells\n",
    "all_nh_list = [] #store information for each fov in a list\n",
    "for fov in all_fovs:\n",
    "    # Subset cell table for only cells in this FOV\n",
    "    fov_cell_table = cell_table.loc[cell_table['fov'] == fov].reset_index(drop=True)\n",
    "    # Make list of all cell centroids\n",
    "    all_centroids = list(zip(fov_cell_table['centroid-0'],fov_cell_table['centroid-1']))\n",
    "    # Get distance between all cells\n",
    "    dist_mat = cdist(all_centroids, all_centroids, 'euclidean')\n",
    "\n",
    "    # Binarize distance matrix (1 if two cells are \"close\")\n",
    "    dist_mat_bin = dist_mat < nh_dist\n",
    "    dist_mat_bin = dist_mat_bin*1\n",
    "\n",
    "    # Remove itself as its own neighbor\n",
    "    dist_mat_bin[dist_mat == 0] = 0\n",
    "    \n",
    "    # Apply function to every cell in the data\n",
    "    nh_dicts = np.apply_along_axis(one_cell_nh, axis=1, arr=dist_mat_bin)\n",
    "    # Turn into dataframe\n",
    "    nh_df = pd.DataFrame(nh_dicts.tolist())\n",
    "    # Get total number of neighbors\n",
    "    nh_df['total_neighbors'] = nh_df.sum(axis=1)\n",
    "    # Combine with data from cell table\n",
    "    nh_df = pd.merge(fov_cell_table, nh_df, left_index=True, right_index=True)\n",
    "    all_nh_list.append(nh_df)\n",
    "\n",
    "# Turn data into dataframe\n",
    "all_nh_df = pd.concat(all_nh_list)\n",
    "all_nh_df"
   ]
  },
  {
   "cell_type": "markdown",
   "id": "976be17a-c272-41cb-b402-36fc4b4bcebc",
   "metadata": {},
   "source": [
    "#### k-means clustering"
   ]
  },
  {
   "cell_type": "markdown",
   "id": "9c620d7c-7219-4e20-9c29-a8e7b1533174",
   "metadata": {},
   "source": [
    "When finding the neighborhood, you can either use the number of cells in the neighborhood of each cell, or the frequency (divided by the total number of cells). The interpretation of each of these is slightly different. We encourage you to try both ways (you can comment/uncomment the line of code that calculates frequency below). By clustering on the neighborhoods, we can identify distinct microenvironments."
   ]
  },
  {
   "cell_type": "code",
   "execution_count": null,
   "id": "0e44629b-ec4e-40c8-83c5-441a661edf99",
   "metadata": {
    "tags": []
   },
   "outputs": [],
   "source": [
    "# If you want to try clustering using frequency (meaning dividing by the total number of cells, uncomment this line\n",
    "# all_nh_df[all_cell_types] = all_nh_df[all_cell_types].divide(all_nh_df['total_neighbors'], axis=0)\n",
    "\n",
    "# Remove cells that have no neighbors\n",
    "all_nh_df_zeros_removed = all_nh_df.loc[all_nh_df['total_neighbors'] > 0].copy()\n",
    "\n",
    "# Only keep columns we want for clustering\n",
    "kmeans_input = all_nh_df_zeros_removed[all_cell_types]\n",
    "\n",
    "# Cluster\n",
    "cluster_fit = KMeans(n_clusters=k, random_state=seed, n_init=10).fit(kmeans_input)\n",
    "# Add 1 to labels to avoid cluster number 0 (because output of kmeans is 0-indexed)\n",
    "cluster_labels = [\"ME\"+str(x) for x in cluster_fit.labels_+1]\n",
    "\n",
    "# Add cluster labels to cell table\n",
    "all_nh_df_zeros_removed['me_cluster'] = cluster_labels\n",
    "\n",
    "# Merge with the big cell table, assign unassigned cells (becaue no neighbors) to k+1\n",
    "all_nh_df = all_nh_df.merge(all_nh_df_zeros_removed, how=\"left\")\n",
    "all_nh_df['me_cluster'] = all_nh_df['me_cluster'].fillna(\"Unassigned\")\n",
    "all_nh_df"
   ]
  },
  {
   "cell_type": "markdown",
   "id": "b3be84b7-4c20-4f91-89d1-f681882e4126",
   "metadata": {},
   "source": [
    "#### Visualize microenvironments"
   ]
  },
  {
   "cell_type": "markdown",
   "id": "bb167b4e-d340-45f5-808a-4a3a1411347f",
   "metadata": {
    "tags": []
   },
   "source": [
    "We can visualize the number of each cell type that is assigned to each microenvironment."
   ]
  },
  {
   "cell_type": "code",
   "execution_count": null,
   "id": "8c6270eb-384b-4e78-8ce9-141fe488cb87",
   "metadata": {
    "tags": []
   },
   "outputs": [],
   "source": [
    "# Count the number of each cell type assigned to each microenvironment\n",
    "num_cell_types_dat_long = all_nh_df_zeros_removed.groupby(['me_cluster', 'cell_cluster']).size().reset_index(name='counts')\n",
    "# Reformat this table\n",
    "num_cell_types_dat = num_cell_types_dat_long.pivot(index='me_cluster', columns='cell_cluster', values='counts')\n",
    "num_cell_types_dat.fillna(0, inplace=True)\n",
    "\n",
    "# Make heatmap\n",
    "heatmap = sns.clustermap(\n",
    "    num_cell_types_dat.apply(stats.zscore, axis=1), # Apply a z-score for better visualization\n",
    "    cmap = \"vlag\",\n",
    "    center = 0,\n",
    "    vmin = -3,\n",
    "    vmax = 3\n",
    ")"
   ]
  },
  {
   "cell_type": "markdown",
   "id": "6b996ed2-6ffe-4c31-8ca9-10277c6072ce",
   "metadata": {},
   "source": [
    "#### Visualize cell phenotypes maps, colored by microenvironment"
   ]
  },
  {
   "cell_type": "code",
   "execution_count": null,
   "id": "d1e2cfe4-969a-4072-b78b-9aab1c83960f",
   "metadata": {
    "tags": []
   },
   "outputs": [],
   "source": [
    "# Define colors we want for each microenvironment (add colors here if you have larger k, you need k+1 colors)\n",
    "all_colors = {}\n",
    "all_colors['ME1'] = '#4E79A7'\n",
    "all_colors['ME2'] = '#59A14F'\n",
    "all_colors['ME3'] = '#D37295'\n",
    "all_colors['Unassigned'] = '#79706E'\n",
    "\n",
    "# Create table matching each color to a unique ID\n",
    "colors_list = [(key,value) for key,value in all_colors.items()]\n",
    "all_colors_df = pd.DataFrame(colors_list, columns=['me_cluster','color'])\n",
    "all_colors_df['pheno_id'] = all_colors_df.index + 1\n",
    "\n",
    "# Make color map for plotting\n",
    "mycols = all_colors_df['color'].tolist()\n",
    "mycols.insert(0,'#000000') # add black for empty slide, will have id 0\n",
    "mycols.append('#FFFFFF') # add white for cell borders, will have id max_n+1\n",
    "colmap = colors.ListedColormap(mycols)\n",
    "max_n = np.max(all_colors_df['pheno_id'])\n",
    "bounds = [i-0.5 for i in np.linspace(0,max_n+2, max_n+3)]\n",
    "norm = colors.BoundaryNorm(bounds, colmap.N)"
   ]
  },
  {
   "cell_type": "code",
   "execution_count": null,
   "id": "97cb4405-624f-4774-bae6-5f70116d7462",
   "metadata": {
    "tags": []
   },
   "outputs": [],
   "source": [
    "# Create microenvironment masks\n",
    "for fov in all_fovs:\n",
    "    # Get segentation array\n",
    "    seg_path = os.path.join(data_dir, fov, \"masks\", \"segmentation_whole_cell.tiff\")\n",
    "    seg_array = io.imread(seg_path).squeeze()\n",
    "    \n",
    "    # Make CPM using function we created above\n",
    "    fig, ax = plt.subplots(figsize=[8,8])\n",
    "    cpm = create_cpm(fov, all_nh_df, all_colors_df, seg_array, fig, ax)\n",
    "    plt.axis('off')\n",
    "    ax.set_title(fov)\n",
    "\n",
    "    # Add colorbar\n",
    "    divider = make_axes_locatable(fig.gca())\n",
    "    cax = divider.append_axes(position=\"right\", size=\"5%\", pad=\"3%\")\n",
    "    cbar = fig.colorbar(cm.ScalarMappable(norm=norm, cmap=colmap),\n",
    "                        cax=cax, orientation=\"vertical\", use_gridspec=True, pad=0.1,\n",
    "                        shrink=0.9, drawedges=True)\n",
    "    cbar_labels = all_colors_df['me_cluster'].to_list()\n",
    "    cbar_labels.insert(0,'Empty') # add black for empty slide, will have id 0\n",
    "    cbar_labels.append('Cell border') # add white for cell borders, will have id max_n+1\n",
    "\n",
    "    cbar.ax.set_yticks(\n",
    "        ticks=np.arange(len(cbar_labels)),\n",
    "        labels=cbar_labels\n",
    "    )\n",
    "    cbar.minorticks_off()\n",
    "\n",
    "    plt.tight_layout()"
   ]
  },
  {
   "cell_type": "markdown",
   "id": "ce409fa6",
   "metadata": {},
   "source": [
    "#### Additional exercises"
   ]
  },
  {
   "cell_type": "markdown",
   "id": "c0911a43",
   "metadata": {},
   "source": [
    "1. Compare generating neighborhoods using counts vs. frequency.\n",
    "2. Change the k used for k-means clustering. How do the results change?\n",
    "3. Inertia and silhouette score are two metrics that could be useful for helping us choose the best k. Try different k's and extracting the inertia value (see https://scikit-learn.org/stable/modules/generated/sklearn.cluster.KMeans.html, intertia_ is an attribute of the output of k-means). Plot k on the x axis and inertia on the y axis. What trend do you see?"
   ]
  }
 ],
 "metadata": {
  "kernelspec": {
   "display_name": "spatial_env",
   "language": "python",
   "name": "spatial_env"
  },
  "language_info": {
   "codemirror_mode": {
    "name": "ipython",
    "version": 3
   },
   "file_extension": ".py",
   "mimetype": "text/x-python",
   "name": "python",
   "nbconvert_exporter": "python",
   "pygments_lexer": "ipython3",
   "version": "3.9.5"
  }
 },
 "nbformat": 4,
 "nbformat_minor": 5
}
