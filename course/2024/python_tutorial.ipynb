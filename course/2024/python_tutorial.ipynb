{
 "cells": [
  {
   "cell_type": "markdown",
   "id": "2aec1274-9a43-4278-bd72-753097eedc3f",
   "metadata": {},
   "source": [
    "# Intro to Python"
   ]
  },
  {
   "cell_type": "markdown",
   "id": "1949ae99-a948-4bd8-a204-ecb8b336348c",
   "metadata": {},
   "source": [
    "## Importing packages"
   ]
  },
  {
   "cell_type": "markdown",
   "id": "decbcd16-7742-46aa-a30f-1d8747233bef",
   "metadata": {},
   "source": [
    "You can import packages using \"import\" (analogous to 'library' in R)."
   ]
  },
  {
   "cell_type": "code",
   "execution_count": null,
   "id": "bb0331ba-9f21-450f-a02f-3ebc7776591a",
   "metadata": {},
   "outputs": [],
   "source": [
    "import os"
   ]
  },
  {
   "cell_type": "markdown",
   "id": "f4bb30c5",
   "metadata": {},
   "source": [
    "You can also assign \"nicknames\" to packages when you're importing them."
   ]
  },
  {
   "cell_type": "code",
   "execution_count": null,
   "id": "94cb1891-44d2-4b0a-9af6-64b0c6a60b59",
   "metadata": {
    "tags": []
   },
   "outputs": [],
   "source": [
    "import numpy as np\n",
    "import pandas as pd\n",
    "import seaborn as sns"
   ]
  },
  {
   "cell_type": "markdown",
   "id": "a9f62959-46fb-4fe2-9aa2-2a762175d142",
   "metadata": {},
   "source": [
    "If you only need certain functions in a package, you can also only import the module within the package that you need."
   ]
  },
  {
   "cell_type": "code",
   "execution_count": null,
   "id": "6293fa11-d36b-45c3-81ee-0324149b5061",
   "metadata": {
    "tags": []
   },
   "outputs": [],
   "source": [
    "import matplotlib.pyplot as plt\n",
    "import skimage.io as io"
   ]
  },
  {
   "cell_type": "markdown",
   "id": "f7d17d2a-df78-499d-9cc4-5c27ec2880d2",
   "metadata": {},
   "source": [
    "## Basic data structures"
   ]
  },
  {
   "cell_type": "markdown",
   "id": "13a6c1ff-caa6-485e-8a29-a977d7293ea0",
   "metadata": {},
   "source": [
    "A python list is like an array:"
   ]
  },
  {
   "cell_type": "code",
   "execution_count": null,
   "id": "c8422e16-97da-4d25-a34a-e396949ae008",
   "metadata": {
    "tags": []
   },
   "outputs": [],
   "source": [
    "xs = [3, 1, 2]   # Create a list\n",
    "print(xs)"
   ]
  },
  {
   "cell_type": "markdown",
   "id": "95f4cf32",
   "metadata": {},
   "source": [
    "One difference between R and Python is that Python uses 0-indexing, meaning that the first element of the list is accessed using 0."
   ]
  },
  {
   "cell_type": "code",
   "execution_count": null,
   "id": "f04c8de4",
   "metadata": {},
   "outputs": [],
   "source": [
    "print(xs[0])\n",
    "print(xs[-1])     # Negative indices count from the end of the list; prints \"2\""
   ]
  },
  {
   "cell_type": "markdown",
   "id": "c0f108de-fb08-44ec-9c36-335c86e1e38a",
   "metadata": {},
   "source": [
    "In addition to accessing list elements one at a time, Python provides concise syntax to access sublists; this is known as slicing."
   ]
  },
  {
   "cell_type": "code",
   "execution_count": null,
   "id": "6fc7ce68-b9ce-4671-a2b1-26d3f86f9f50",
   "metadata": {
    "tags": []
   },
   "outputs": [],
   "source": [
    "nums = list(range(5))    # range is a built-in function that creates a list of integers\n",
    "print(nums)         # Prints \"[0, 1, 2, 3, 4]\"\n",
    "print(nums[2:4])    # Get a slice from index 2 to 4 (exclusive); prints \"[2, 3]\"\n",
    "print(nums[2:])     # Get a slice from index 2 to the end; prints \"[2, 3, 4]\"\n",
    "print(nums[:2])     # Get a slice from the start to index 2 (exclusive); prints \"[0, 1]\"\n",
    "print(nums[:])      # Get a slice of the whole list; prints [\"0, 1, 2, 3, 4]\"\n",
    "print(nums[:-1])    # Slice indices can be negative; prints [\"0, 1, 2, 3]\"\n",
    "nums[2:4] = [8, 9] # Assign a new sublist to a slice\n",
    "print(nums)         # Prints \"[0, 1, 8, 9, 4]\""
   ]
  },
  {
   "cell_type": "markdown",
   "id": "3b49fc6e-9429-4dac-ba6c-700dc769b7cc",
   "metadata": {},
   "source": [
    "You can loop over the elements of a list like this:"
   ]
  },
  {
   "cell_type": "code",
   "execution_count": null,
   "id": "5cc3b85c-f12e-4628-8003-72ee60f8c182",
   "metadata": {
    "tags": []
   },
   "outputs": [],
   "source": [
    "animals = ['cat', 'dog', 'monkey']\n",
    "for animal in animals:\n",
    "    print(animal)"
   ]
  },
  {
   "cell_type": "markdown",
   "id": "ab037817-7055-4d17-9bc3-f981b04eeda2",
   "metadata": {},
   "source": [
    "If you want access to the index of each element within the body of a loop, use the built-in `enumerate` function."
   ]
  },
  {
   "cell_type": "code",
   "execution_count": null,
   "id": "6afd9752-4f08-4bbe-89ad-4113b0971ead",
   "metadata": {
    "tags": []
   },
   "outputs": [],
   "source": [
    "animals = ['cat', 'dog', 'monkey']\n",
    "for idx, animal in enumerate(animals):\n",
    "    print('#{}: {}'.format(idx + 1, animal)) #in 'print' syntax, the variables after 'format' are printed where the '{}' are"
   ]
  },
  {
   "cell_type": "markdown",
   "id": "d1a97c7d-f651-4967-b3fe-81a53f25e5b2",
   "metadata": {},
   "source": [
    "When programming, frequently we want to perform operations on every element of a list. As a simple example, consider the following code that computes square numbers:"
   ]
  },
  {
   "cell_type": "code",
   "execution_count": null,
   "id": "6aea48b1-6f45-4442-a5b1-46c66821d8b9",
   "metadata": {
    "tags": []
   },
   "outputs": [],
   "source": [
    "nums = [0, 1, 2, 3, 4]\n",
    "squares = []\n",
    "for x in nums:\n",
    "    squares.append(x ** 2)\n",
    "print(squares)"
   ]
  },
  {
   "cell_type": "markdown",
   "id": "9d69e1a9-fb4e-4bb2-a5f4-a44ef5b10f10",
   "metadata": {},
   "source": [
    "You can make this code a lot simpler using a list comprehension:"
   ]
  },
  {
   "cell_type": "code",
   "execution_count": null,
   "id": "cb7ee439-9fa4-4ad1-beee-d25f0e9766b9",
   "metadata": {
    "tags": []
   },
   "outputs": [],
   "source": [
    "nums = [0, 1, 2, 3, 4]\n",
    "squares = [x ** 2 for x in nums]\n",
    "print(squares)"
   ]
  },
  {
   "cell_type": "markdown",
   "id": "22497d10-34c7-476d-9123-45aa91cc6577",
   "metadata": {},
   "source": [
    "List comprehensions can also contain conditions (\"%\" is the mod function, which performs division between two numbers and returns the remainder, ex. 6 % 3 = 0, 7 % 3 = 1):"
   ]
  },
  {
   "cell_type": "code",
   "execution_count": null,
   "id": "1112ec4e-b864-43e0-b14d-28e0de7de8e1",
   "metadata": {
    "tags": []
   },
   "outputs": [],
   "source": [
    "nums = [0, 1, 2, 3, 4]\n",
    "even_squares = [x ** 2 for x in nums if x % 2 == 0]\n",
    "print(even_squares)"
   ]
  },
  {
   "cell_type": "markdown",
   "id": "8064bd1e-deff-4abf-ae48-eb3322ed8bf2",
   "metadata": {},
   "source": [
    "Another useful data structure is a dictionary. A dictionary stores (key, value) pairs. You can use it like this:"
   ]
  },
  {
   "cell_type": "code",
   "execution_count": null,
   "id": "7cf2d60d-ebf3-4138-87f9-dbb30af9b402",
   "metadata": {
    "tags": []
   },
   "outputs": [],
   "source": [
    "d = {'cat': 'cute', 'dog': 'furry'}  # Create a new dictionary with some data in 'key':'value' pairs\n",
    "print(d['cat'])       # Get an entry from a dictionary; prints \"cute\"\n",
    "print('cat' in d)     # Check if a dictionary has a given key; prints \"True\""
   ]
  },
  {
   "cell_type": "code",
   "execution_count": null,
   "id": "9a3b1469-f298-4389-860c-f4dcac03cb37",
   "metadata": {
    "tags": []
   },
   "outputs": [],
   "source": [
    "d['fish'] = 'wet'    # Create an entry in a dictionary\n",
    "print(d['fish'])      # Access an entry in a dictionary, prints \"wet\""
   ]
  },
  {
   "cell_type": "markdown",
   "id": "421eb7b5-282c-4765-bf37-c845fa5e9efb",
   "metadata": {},
   "source": [
    "You can iterate over the entries in a dictionary:"
   ]
  },
  {
   "cell_type": "code",
   "execution_count": null,
   "id": "a9bd8263-adc2-4705-adad-edf71ce90f3b",
   "metadata": {
    "tags": []
   },
   "outputs": [],
   "source": [
    "d = {'person': 2, 'cat': 4, 'spider': 8}\n",
    "for animal, legs in d.items(): # Here, we are deconstructing each key-value pair into variables called 'animal' and 'legs'\n",
    "    print('A {} has {} legs'.format(animal, legs))"
   ]
  },
  {
   "cell_type": "markdown",
   "id": "e621542f-a21e-454c-81c2-160d7446368a",
   "metadata": {},
   "source": [
    "## Defining functions"
   ]
  },
  {
   "cell_type": "markdown",
   "id": "639ad208-7ca0-4490-8636-77894baf77ed",
   "metadata": {},
   "source": [
    "Python functions are defined using the `def` keyword. For example:"
   ]
  },
  {
   "cell_type": "code",
   "execution_count": null,
   "id": "86f47670-9b49-42e2-80de-d46b0c1631b6",
   "metadata": {
    "tags": []
   },
   "outputs": [],
   "source": [
    "def sign(x):\n",
    "    if x > 0:\n",
    "        return 'positive'\n",
    "    elif x < 0:\n",
    "        return 'negative'\n",
    "    else:\n",
    "        return 'zero'"
   ]
  },
  {
   "cell_type": "code",
   "execution_count": null,
   "id": "b424355a-7f46-4937-87a8-00be3868310f",
   "metadata": {
    "tags": []
   },
   "outputs": [],
   "source": [
    "for x in [-1, 0, 1]:\n",
    "    print(sign(x))"
   ]
  },
  {
   "cell_type": "markdown",
   "id": "123d487f-196d-41bf-8cb4-644102e76828",
   "metadata": {},
   "source": [
    "## Numpy"
   ]
  },
  {
   "cell_type": "markdown",
   "id": "183a02bf-b81f-45c4-b584-e6c6574d5776",
   "metadata": {},
   "source": [
    "Numpy is the core library for scientific computing in Python. It provides a high-performance multidimensional array object, and tools for working with these arrays."
   ]
  },
  {
   "cell_type": "code",
   "execution_count": null,
   "id": "02148965-38f3-43b5-9318-ca1f5481b072",
   "metadata": {
    "tags": []
   },
   "outputs": [],
   "source": [
    "import numpy as np"
   ]
  },
  {
   "cell_type": "markdown",
   "id": "d927bc2c-ec8d-4a47-913a-a32615e9df24",
   "metadata": {},
   "source": [
    "We can initialize numpy arrays from nested Python lists, and access elements using square brackets:"
   ]
  },
  {
   "cell_type": "code",
   "execution_count": null,
   "id": "f74da974-ba03-4936-8a10-274114487988",
   "metadata": {
    "tags": []
   },
   "outputs": [],
   "source": [
    "a = np.array([[1,2,3],[4,5,6]])\n",
    "print(a)\n",
    "print(a.shape)\n",
    "print(a[0, 0], a[0, 1], a[1, 0])"
   ]
  },
  {
   "cell_type": "markdown",
   "id": "082b09d5-5c35-4ee8-ae4e-596fa21bbc3f",
   "metadata": {},
   "source": [
    "Boolean array indexing lets you pick out arbitrary elements of an array. Frequently this type of indexing is used to select the elements of an array that satisfy some condition. Here is an example:"
   ]
  },
  {
   "cell_type": "code",
   "execution_count": null,
   "id": "ed2328ae-aadf-4c57-860a-4d7c62541212",
   "metadata": {
    "tags": []
   },
   "outputs": [],
   "source": [
    "a = np.array([[1,2], [3, 4], [5, 6]])\n",
    "\n",
    "bool_idx = (a > 2)  # Find the elements of a that are bigger than 2;\n",
    "                    # this returns a numpy array of Booleans of the same\n",
    "                    # shape as a, where each slot of bool_idx tells\n",
    "                    # whether that element of a is > 2.\n",
    "\n",
    "print(bool_idx)"
   ]
  },
  {
   "cell_type": "code",
   "execution_count": null,
   "id": "9e7ba8db-02f8-4c8c-9daa-07c5865ac285",
   "metadata": {
    "tags": []
   },
   "outputs": [],
   "source": [
    "# We use boolean array indexing to construct a rank 1 array\n",
    "# consisting of the elements of a corresponding to the True values\n",
    "# of bool_idx\n",
    "print(a[bool_idx])\n",
    "\n",
    "# We can do all of the above in a single concise statement:\n",
    "print(a[a > 2])"
   ]
  },
  {
   "cell_type": "markdown",
   "id": "b21baf26-3e04-4bbc-927a-dccc9f5c5d57",
   "metadata": {},
   "source": [
    "Numpy is a powerful library that underlies a lot of machine learning packages in Python. To learn more, check out the documentation: https://numpy.org/doc/stable/user/quickstart.html.\n",
    "\n",
    "Scipy is a collection of mathematical algorithms built on top of Numpy. For more tutorials and information, see https://scipy.org/."
   ]
  },
  {
   "cell_type": "markdown",
   "id": "8c0e8d75-d5be-4ae4-a75c-49091de161a1",
   "metadata": {},
   "source": [
    "## Pandas"
   ]
  },
  {
   "cell_type": "markdown",
   "id": "cdf49012-2375-4fc1-85a9-39dd52548a4d",
   "metadata": {},
   "source": [
    "Pandas is a powerful library for working with tabular data (similar to data frames in R)."
   ]
  },
  {
   "cell_type": "code",
   "execution_count": null,
   "id": "5ea0b7e6-fe82-4c83-b862-5145e552e34a",
   "metadata": {
    "tags": []
   },
   "outputs": [],
   "source": [
    "import pandas as pd"
   ]
  },
  {
   "cell_type": "markdown",
   "id": "54c0ca8f-28a1-40a9-ab80-dff9c2e6dbbc",
   "metadata": {
    "tags": []
   },
   "source": [
    "Here is a simple example:"
   ]
  },
  {
   "cell_type": "code",
   "execution_count": null,
   "id": "c3299295-6e5b-4b60-ac61-b7d107371357",
   "metadata": {
    "tags": []
   },
   "outputs": [],
   "source": [
    "data = {\n",
    "  \"calories\": [420, 380, 390],\n",
    "  \"duration\": [50, 40, 45]\n",
    "}\n",
    "\n",
    "# Load data into a DataFrame object:\n",
    "df = pd.DataFrame(data)\n",
    "df"
   ]
  },
  {
   "cell_type": "markdown",
   "id": "e6f8e2bd-9931-4f74-bc90-4a19955acf8b",
   "metadata": {
    "tags": []
   },
   "source": [
    "To locate a specific row:"
   ]
  },
  {
   "cell_type": "code",
   "execution_count": null,
   "id": "85b929e6-beeb-4cf1-b4a4-fe24541a16b8",
   "metadata": {
    "tags": []
   },
   "outputs": [],
   "source": [
    "print(df.loc[0])"
   ]
  },
  {
   "cell_type": "markdown",
   "id": "d76e8de8-91f6-44be-87f0-18a6d1940040",
   "metadata": {},
   "source": [
    "Add column to data frame:"
   ]
  },
  {
   "cell_type": "code",
   "execution_count": null,
   "id": "94405d92-1581-4ce4-a33b-8eb0055c0e4b",
   "metadata": {
    "tags": []
   },
   "outputs": [],
   "source": [
    "df['group'] = ['group1','group1','group2']\n",
    "df"
   ]
  },
  {
   "cell_type": "markdown",
   "id": "e9739d31-e7b4-4e1a-a85d-02f565b7f741",
   "metadata": {},
   "source": [
    "Subset a data frame:"
   ]
  },
  {
   "cell_type": "code",
   "execution_count": null,
   "id": "70c0d43c-ea88-401e-a608-ae0d16bd2019",
   "metadata": {
    "tags": []
   },
   "outputs": [],
   "source": [
    "# Only keep rows in group 1\n",
    "df.loc[df['group'] == 'group1']"
   ]
  },
  {
   "cell_type": "markdown",
   "id": "142b9958-86e1-4ca1-8ec7-5e0df8751ba5",
   "metadata": {},
   "source": [
    "Count the number of rows in each group:"
   ]
  },
  {
   "cell_type": "code",
   "execution_count": null,
   "id": "c4afe13b-409a-4761-b217-160caec60e75",
   "metadata": {
    "tags": []
   },
   "outputs": [],
   "source": [
    "df.groupby('group').size()"
   ]
  },
  {
   "cell_type": "markdown",
   "id": "b8415ba6-15f2-4a65-9d85-694553f2c747",
   "metadata": {},
   "source": [
    "You can also perform operations on groups of rows. For example, here, we are finding the mean calories in each group."
   ]
  },
  {
   "cell_type": "code",
   "execution_count": null,
   "id": "1df211b1-d235-4059-9cb6-b7732aa52186",
   "metadata": {
    "tags": []
   },
   "outputs": [],
   "source": [
    "df.groupby('group')['calories'].mean()"
   ]
  },
  {
   "cell_type": "markdown",
   "id": "5824f017-ee86-4125-8af8-782e6c8f16bf",
   "metadata": {},
   "source": [
    "Pandas dataframes are indexed (the numbers on the left hand side). Even when you subset a table, the indices do not change. For example, we can see that when we subset for group2 only, the index for that row stays the same."
   ]
  },
  {
   "cell_type": "code",
   "execution_count": null,
   "id": "1e7cbf8c-6416-4446-a57a-02e8fb97bc46",
   "metadata": {
    "tags": []
   },
   "outputs": [],
   "source": [
    "df.loc[df['group'] == 'group2']"
   ]
  },
  {
   "cell_type": "markdown",
   "id": "19a50a2a-1188-4ee8-97dd-b4633102f595",
   "metadata": {},
   "source": [
    "If we want to reset the index, we can use the `reset_index` function:"
   ]
  },
  {
   "cell_type": "code",
   "execution_count": null,
   "id": "ee737068-784a-4569-a615-8c4e2b43cb0a",
   "metadata": {
    "tags": []
   },
   "outputs": [],
   "source": [
    "df.loc[df['group'] == 'group2'].reset_index()"
   ]
  },
  {
   "cell_type": "markdown",
   "id": "475a45a0-6a89-4aaf-a4fe-5825fd41ce15",
   "metadata": {},
   "source": [
    "We can merge 2 data frames using hte `merge` function:"
   ]
  },
  {
   "cell_type": "code",
   "execution_count": null,
   "id": "b5b5369b-eddb-456d-b63d-bc56a52ffa51",
   "metadata": {
    "tags": []
   },
   "outputs": [],
   "source": [
    "new_data = {\n",
    "  \"group\": ['group1', 'group2'],\n",
    "  \"new_col\": [100, 200]\n",
    "}\n",
    "\n",
    "# Load data into a DataFrame object:\n",
    "new_df = pd.DataFrame(new_data)\n",
    "new_df"
   ]
  },
  {
   "cell_type": "code",
   "execution_count": null,
   "id": "16210355-fd43-4402-8dc2-c36fbcc1c2d3",
   "metadata": {
    "tags": []
   },
   "outputs": [],
   "source": [
    "df.merge(new_df, on='group') # merge the two tables using the 'group' column"
   ]
  },
  {
   "cell_type": "markdown",
   "id": "8fb9024e",
   "metadata": {},
   "source": [
    "To read data directly from a file and load it as a pandas DataFrame:"
   ]
  },
  {
   "cell_type": "code",
   "execution_count": null,
   "id": "879c9bdc",
   "metadata": {},
   "outputs": [],
   "source": [
    "pd.read_csv(\"example_data/cell_table.csv\")"
   ]
  },
  {
   "cell_type": "markdown",
   "id": "500fe964-c5bd-4f6d-a8e0-a54bc0377b6a",
   "metadata": {},
   "source": [
    "Pandas has a lot more functionality. For more tutorials and information, see https://pandas.pydata.org/docs/index.html."
   ]
  },
  {
   "cell_type": "markdown",
   "id": "127e75e4-0471-4868-a96a-e33c0de76048",
   "metadata": {
    "tags": []
   },
   "source": [
    "## Matplotlib and Seaborn"
   ]
  },
  {
   "cell_type": "markdown",
   "id": "7562ea2f-2327-4dd0-b9d0-5af427cd69c2",
   "metadata": {},
   "source": [
    "Matplotlib is a plotting library. In this section, we will give a brief introduction to the `matplotlib.pyplot` module."
   ]
  },
  {
   "cell_type": "code",
   "execution_count": null,
   "id": "74567f1b-ddd0-4bf4-8931-0a9b14bc0b6e",
   "metadata": {
    "tags": []
   },
   "outputs": [],
   "source": [
    "import matplotlib.pyplot as plt"
   ]
  },
  {
   "cell_type": "markdown",
   "id": "d314d420-adb2-4478-a1d5-ab173b052f12",
   "metadata": {
    "tags": []
   },
   "source": [
    "Here is a simple example:"
   ]
  },
  {
   "cell_type": "code",
   "execution_count": null,
   "id": "02d4a5e8-942e-4a29-a123-d5bb1800204e",
   "metadata": {
    "tags": []
   },
   "outputs": [],
   "source": [
    "# Compute the x and y coordinates for points on a sine curve\n",
    "x = np.arange(0, 3 * np.pi, 0.1)\n",
    "y = np.sin(x)\n",
    "\n",
    "# Plot the points using matplotlib\n",
    "plt.plot(x, y)\n",
    "plt.show()"
   ]
  },
  {
   "cell_type": "markdown",
   "id": "53362bf1-ca05-4594-ae43-daffcdcebeb1",
   "metadata": {},
   "source": [
    "You can plot different things in the same figure using the subplot function. Here is an example:"
   ]
  },
  {
   "cell_type": "code",
   "execution_count": null,
   "id": "75538d47-580c-4a61-8784-cd4a4fd7ac6d",
   "metadata": {
    "tags": []
   },
   "outputs": [],
   "source": [
    "# Compute the x and y coordinates for points on sine and cosine curves\n",
    "x = np.arange(0, 3 * np.pi, 0.1)\n",
    "y_sin = np.sin(x)\n",
    "y_cos = np.cos(x)\n",
    "\n",
    "# Set up a subplot grid that has height 2 and width 1,\n",
    "# and set the first such subplot as active.\n",
    "plt.subplot(2, 1, 1)\n",
    "\n",
    "# Make the first plot\n",
    "plt.plot(x, y_sin)\n",
    "plt.title('Sine')\n",
    "\n",
    "# Set the second subplot as active, and make the second plot.\n",
    "plt.subplot(2, 1, 2)\n",
    "plt.plot(x, y_cos)\n",
    "plt.title('Cosine')\n",
    "\n",
    "# Show the figure.\n",
    "plt.show()"
   ]
  },
  {
   "cell_type": "markdown",
   "id": "456400f0-e26c-4f4d-81e9-512ed4173837",
   "metadata": {},
   "source": [
    "Seaborn is another popular plotting package that can generate \"prettier\" plots (maybe similar to 'ggplot2' in R)."
   ]
  },
  {
   "cell_type": "code",
   "execution_count": null,
   "id": "fb321a80-c6a3-455d-b93d-1075e1d501f3",
   "metadata": {
    "tags": []
   },
   "outputs": [],
   "source": [
    "import seaborn as sns"
   ]
  },
  {
   "cell_type": "code",
   "execution_count": null,
   "id": "548e8797-01b1-4006-8617-aa9cb2d749a8",
   "metadata": {
    "tags": []
   },
   "outputs": [],
   "source": [
    "# Load an example dataset\n",
    "tips = sns.load_dataset(\"tips\")\n",
    "\n",
    "# Create a visualization\n",
    "sns.relplot(\n",
    "    data=tips,\n",
    "    x=\"total_bill\", y=\"tip\", col=\"time\",\n",
    "    hue=\"smoker\", style=\"smoker\", size=\"size\",\n",
    ")\n",
    "plt.show()"
   ]
  },
  {
   "cell_type": "markdown",
   "id": "2b269a21-b89f-4bed-a211-996220c52143",
   "metadata": {
    "tags": []
   },
   "source": [
    "For more documentation on these two packages, see https://matplotlib.org/3.5.3/api/_as_gen/matplotlib.pyplot.html and https://seaborn.pydata.org/tutorial/introduction.html."
   ]
  },
  {
   "cell_type": "markdown",
   "id": "5db1180c-7619-4049-9066-18b0eef49cc5",
   "metadata": {
    "tags": []
   },
   "source": [
    "## Images"
   ]
  },
  {
   "cell_type": "markdown",
   "id": "6b3b8620-bdb0-4b80-8585-d3e311563601",
   "metadata": {},
   "source": [
    "There are a few different packages that you can use for opening images. `scikit-image` (shorted as `skimage`) is a popular one."
   ]
  },
  {
   "cell_type": "code",
   "execution_count": null,
   "id": "9a8e86e9-564b-481a-94ee-547bd616126f",
   "metadata": {
    "tags": []
   },
   "outputs": [],
   "source": [
    "import skimage.io as io"
   ]
  },
  {
   "cell_type": "markdown",
   "id": "5f6b9657-1cdc-4bcf-8bea-4d6cb635978a",
   "metadata": {},
   "source": [
    "Here, we are loading in an image."
   ]
  },
  {
   "cell_type": "code",
   "execution_count": null,
   "id": "e02b19fd-6d15-45e4-8400-27df3c179cca",
   "metadata": {
    "tags": []
   },
   "outputs": [],
   "source": [
    "example_image = io.imread(\"example_data/fov1/image_data/CD45.tiff\")"
   ]
  },
  {
   "cell_type": "markdown",
   "id": "af9132a8-875c-4218-b139-6ea870517b30",
   "metadata": {},
   "source": [
    "We can see that the image is just an array of numbers."
   ]
  },
  {
   "cell_type": "code",
   "execution_count": null,
   "id": "c4e342e5-80f7-4e80-ac67-17763817131a",
   "metadata": {
    "tags": []
   },
   "outputs": [],
   "source": [
    "example_image"
   ]
  },
  {
   "cell_type": "markdown",
   "id": "6a465b04-9e7c-4278-b42d-acb307eb73d5",
   "metadata": {},
   "source": [
    "We can inspect the shape of the array (the shape of the image)."
   ]
  },
  {
   "cell_type": "code",
   "execution_count": null,
   "id": "3ecfad06-d5db-491a-9d29-86cbcc83c69e",
   "metadata": {
    "tags": []
   },
   "outputs": [],
   "source": [
    "example_image.shape"
   ]
  },
  {
   "cell_type": "markdown",
   "id": "091cd747-6d69-4a94-a73d-9216508aeb93",
   "metadata": {},
   "source": [
    "We can also display the image."
   ]
  },
  {
   "cell_type": "code",
   "execution_count": null,
   "id": "0e4bda13-b6ef-49de-8fa4-838990698a31",
   "metadata": {
    "tags": []
   },
   "outputs": [],
   "source": [
    "fig = plt.figure(figsize=(8,8))\n",
    "plt.imshow(example_image, origin=\"lower\", cmap='gray', vmax=np.quantile(example_image,0.99))\n",
    "plt.axis('off')\n",
    "plt.tight_layout()"
   ]
  },
  {
   "cell_type": "markdown",
   "id": "17046c24-865b-4fdf-b118-a2f060fa6df5",
   "metadata": {},
   "source": [
    "For more documentation on scikit-image, see https://scikit-image.org/."
   ]
  },
  {
   "cell_type": "markdown",
   "id": "bf6a1a62",
   "metadata": {},
   "source": [
    "## Additional exercises"
   ]
  },
  {
   "cell_type": "markdown",
   "id": "19a373bd",
   "metadata": {},
   "source": [
    "1. Read in the cell tabe at \"example_data/cell_table.csv\". How many unique types of cells are there? How many unique FOVs?\n",
    "2. Filter the cell table for cells in FOV2. How many CD4 T cells are there?\n",
    "3. Make a dictionary mapping each cell ID to its cell type.\n",
    "4. Make a bargraph showing the number of cells of each cell type in FOV1.\n",
    "5. Read in some example images in the \"example_data\" folder and play with the \"vmax\" parameter to see how the image changes."
   ]
  }
 ],
 "metadata": {
  "kernelspec": {
   "display_name": "spatial_env",
   "language": "python",
   "name": "spatial_env"
  },
  "language_info": {
   "codemirror_mode": {
    "name": "ipython",
    "version": 3
   },
   "file_extension": ".py",
   "mimetype": "text/x-python",
   "name": "python",
   "nbconvert_exporter": "python",
   "pygments_lexer": "ipython3",
   "version": "3.9.5"
  }
 },
 "nbformat": 4,
 "nbformat_minor": 5
}
